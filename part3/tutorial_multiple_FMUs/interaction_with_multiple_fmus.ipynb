{
  "cells": [
    {
      "cell_type": "markdown",
      "metadata": {
        "id": "x8f6IbQ1sksS"
      },
      "source": [
        "<a target=\"_blank\" href=\"https://colab.research.google.com/github/modelica/fmi-beginners-tutorial-2025/blob/main/part3/tutorial_multiple_FMUs/interaction_with_multiple_fmus.ipynb\">\n",
        "  <img src=\"https://colab.research.google.com/assets/colab-badge.svg\" alt=\"Open In Colab\"/>\n",
        "</a>"
      ]
    },
    {
      "cell_type": "markdown",
      "metadata": {
        "id": "PS_N06lhMK3p"
      },
      "source": [
        "# Running Co-simulations with the INTO-CPS Maestro Co-simulation Engine\n",
        "\n",
        "The goal of this notebook is to highlight how to run a co-simulation using an open source tool.\n",
        "\n",
        "It is meant to represent one of the simplest ways to get started running co-simulations with a command line tool.\n",
        "\n",
        "The notebook is organized into two parts:\n",
        "1. The first part is focused on running a co-simulation from the command line without concern for the accuracy of the results.\n",
        "2. The second part shows how the accuracy of the co-simulation can be measured provided that there exists a baseline reference.\n",
        "\n",
        "Running a co-simulation using the INTO-CPS co-simulation orchestration requires the user to specify the co-simulation scenario in a JSON file, which is then fed into the tool which will load the FMUS and produce the results as a CSV file."
      ]
    },
    {
      "cell_type": "code",
      "execution_count": null,
      "metadata": {
        "id": "pf2CBzPAMK3r"
      },
      "outputs": [],
      "source": [
        "# Import all dependencies\n",
        "import json\n",
        "import subprocess\n",
        "import pandas\n",
        "import matplotlib.pyplot as plt\n",
        "import numpy as np\n",
        "import time\n"
      ]
    },
    {
      "cell_type": "code",
      "execution_count": null,
      "metadata": {
        "colab": {
          "base_uri": "https://localhost:8080/"
        },
        "id": "5kbt8J4RRRPu",
        "outputId": "67738e03-b6cb-418e-957a-69937ad03efa"
      },
      "outputs": [],
      "source": [
        "%%bash\n",
        "git clone https://github.com/modelica/fmi-beginners-tutorial-2025.git"
      ]
    },
    {
      "cell_type": "code",
      "execution_count": null,
      "metadata": {
        "colab": {
          "base_uri": "https://localhost:8080/"
        },
        "id": "xQ82-gbPMK3t",
        "outputId": "f536c167-83ed-4692-8102-ced09cc8fd69"
      },
      "outputs": [],
      "source": [
        "# Small details: make the jar executable in your platform.\n",
        "%cd fmi-beginners-tutorial-2025/part3/tutorial_multiple_FMUs\n",
        "coe_jar = \"maestro.jar\"\n",
        "\n",
        "# Make jar executable.\n",
        "command = f\"chmod +x {coe_jar}\"\n",
        "result = subprocess.run(command, shell=True, capture_output=True, text=True)\n",
        "if result.returncode != 0:\n",
        "    raise RuntimeError(f\"Error running command {command}: {result.stderr}\")\n"
      ]
    },
    {
      "cell_type": "markdown",
      "metadata": {
        "id": "BHj-Y1w2MK3u"
      },
      "source": [
        "## Part 1: Running Co-simulations from the Command Line\n",
        "\n",
        "This part is divided into 2 sections:\n",
        "1. Running a co-simulation of a single FMU.\n",
        "2. Running a co-simulation with multiple interconnected FMUs."
      ]
    },
    {
      "cell_type": "markdown",
      "metadata": {
        "id": "BBMGAy1uMK3u"
      },
      "source": [
        "### Running Co-simulations with Single FMU"
      ]
    },
    {
      "cell_type": "code",
      "execution_count": null,
      "metadata": {
        "colab": {
          "base_uri": "https://localhost:8080/"
        },
        "id": "N0BZDZNuMK3u",
        "outputId": "6cfd85c0-25d7-427f-e479-7ade5ea28994"
      },
      "outputs": [],
      "source": [
        "# Prepare the co-simulation scenario description, which points to where the FMU.\n",
        "singlefmu_scenario_json_file = \"single_fmu_scenario.json\"\n",
        "\n",
        "# The following is a small detail whereby we need to find the absolute path of the FMU that is compatible with the platform of the user.\n",
        "platform_folder = 'Linux'\n",
        "# We can now see the co-simulation scenario as a json file:\n",
        "with open(singlefmu_scenario_json_file, 'r') as file :\n",
        "    scenario_raw = file.read()\n",
        "\n",
        "print(json.dumps(json.loads(scenario_raw), indent=2))"
      ]
    },
    {
      "cell_type": "code",
      "execution_count": null,
      "metadata": {
        "colab": {
          "base_uri": "https://localhost:8080/",
          "height": 540
        },
        "id": "c0OnTxBtMK3w",
        "outputId": "843333d0-8042-4288-c14b-2ae1ba94fe1d"
      },
      "outputs": [],
      "source": [
        "# Now we can run the co-simulation\n",
        "coe_command = f\"java -jar {coe_jar} --oneshot --configuration {singlefmu_scenario_json_file} --starttime 0 --endtime 1 --result output.csv\"\n",
        "result = subprocess.run(coe_command, shell=True, capture_output=True, text=True)\n",
        "\n",
        "# Check the command's output\n",
        "if result.returncode == 0:\n",
        "    print(result.stdout)\n",
        "else:\n",
        "    raise RuntimeError(f\"Error running command {coe_command}: {result.stderr}\")"
      ]
    },
    {
      "cell_type": "code",
      "execution_count": null,
      "metadata": {
        "id": "6pSImTaWMK3w"
      },
      "outputs": [],
      "source": [
        "# We can see the results stored in \"output.csv\"\n",
        "data = pandas.read_csv(\"output.csv\")\n",
        "data"
      ]
    },
    {
      "cell_type": "code",
      "execution_count": null,
      "metadata": {
        "id": "6Af906HqMK3x"
      },
      "outputs": [],
      "source": [
        "# As can can plot those results as follows\n",
        "plt.figure()\n",
        "plt.plot(data[\"time\"], data[\"{baseline}.baselineInstance.w\"], label=\"{baseline}.w\")\n",
        "plt.legend()\n",
        "plt.show()"
      ]
    },
    {
      "cell_type": "markdown",
      "metadata": {
        "id": "OyS0cv7KMK3x"
      },
      "source": [
        "### Running a Co-simulation with Multiple FMUs"
      ]
    },
    {
      "cell_type": "code",
      "execution_count": null,
      "metadata": {
        "colab": {
          "base_uri": "https://localhost:8080/"
        },
        "id": "LwUUIfI3MK3x",
        "outputId": "52742992-f582-4b2e-b080-00da380d83ed"
      },
      "outputs": [],
      "source": [
        "# Prepare the co-simulation scenario description, which points to where the FMUs are.\n",
        "\n",
        "decoupled_scenario_json_file = \"decoupled_scenario.json\"\n",
        "\n",
        "# We can now see the co-simulation scenario as a json file:\n",
        "with open(decoupled_scenario_json_file, 'r') as file :\n",
        "    scenario_raw = file.read()\n",
        "\n",
        "print(json.dumps(json.loads(scenario_raw), indent=2))"
      ]
    },
    {
      "cell_type": "code",
      "execution_count": null,
      "metadata": {
        "colab": {
          "base_uri": "https://localhost:8080/"
        },
        "id": "YrMpPI36MK3y",
        "outputId": "a6def7de-95b0-4ea6-b18c-d8ded1861f6b"
      },
      "outputs": [],
      "source": [
        "# Now we can run the co-simulation\n",
        "coe_command = f\"java -jar {coe_jar} --oneshot --configuration {decoupled_scenario_json_file} --starttime 0 --endtime 1 --result output.csv\"\n",
        "result = subprocess.run(coe_command, shell=True, capture_output=True, text=True)\n",
        "\n",
        "# Check the command's output\n",
        "if result.returncode == 0:\n",
        "    print(result.stdout)\n",
        "else:\n",
        "    raise RuntimeError(f\"Error running command {coe_command}: {result.stderr}\")"
      ]
    },
    {
      "cell_type": "code",
      "execution_count": null,
      "metadata": {
        "colab": {
          "base_uri": "https://localhost:8080/",
          "height": 443
        },
        "id": "MuEO_ft4MK3y",
        "outputId": "6f5d232c-dab6-4517-b138-372a578866b6"
      },
      "outputs": [],
      "source": [
        "# If all went well, we can see the results stored in \"output.csv\"\n",
        "data = pandas.read_csv(\"output.csv\")\n",
        "data"
      ]
    },
    {
      "cell_type": "code",
      "execution_count": null,
      "metadata": {
        "colab": {
          "base_uri": "https://localhost:8080/",
          "height": 430
        },
        "id": "xIgicllVMK3z",
        "outputId": "8f08a5f9-8dc8-4d23-fc9e-c526ffe9d1ff"
      },
      "outputs": [],
      "source": [
        "# As can can plot those results as follows\n",
        "plt.figure()\n",
        "plt.plot(data[\"time\"], data[\"{drive}.driveInstance.w\"], label=\"{drive}.w\")\n",
        "plt.plot(data[\"time\"], data[\"{stimuli}.stimuliInstance.w_desired\"], label=\"{stimuli}.w_desired\")\n",
        "plt.legend()\n",
        "plt.show()"
      ]
    },
    {
      "cell_type": "markdown",
      "metadata": {
        "id": "_xsgRcUVMK3z"
      },
      "source": [
        "## Part 2: Measuring Accuracy of the Co-simulation Wrt to Baseline\n",
        "\n",
        "In this part we show how to measure the accuracy of a co-simulation and the impact of the co-simulation step size in the accuracy.\n",
        "We have two sections:\n",
        "1. We run a co-simulation scenario where we include the baseline as an FMU that is run in parallel with the other fmus, that are representing the same system, but in a decoupled manner.\n",
        "2. In the second section we run multiple experiments with different communication steps in order to highlight the impact of this parameter in the accuracy."
      ]
    },
    {
      "cell_type": "markdown",
      "metadata": {
        "id": "3Sh9fbruMK3z"
      },
      "source": [
        "### Co-simulation Scenario with Baseline"
      ]
    },
    {
      "cell_type": "code",
      "execution_count": null,
      "metadata": {
        "colab": {
          "base_uri": "https://localhost:8080/"
        },
        "id": "3PKjmFjDMK30",
        "outputId": "c522ce0a-a9a8-4e59-c574-079587f3d887"
      },
      "outputs": [],
      "source": [
        "# Prepare the co-simulation scenario description, which points to where the FMUs are.\n",
        "baseline_scenario_json_template = \"baseline_scenario_template.json\"\n",
        "baseline_scenario_json_file = \"baseline_scenario.json\"\n",
        "\n",
        "# We can now see the co-simulation scenario as a json file:\n",
        "with open(baseline_scenario_json_file, 'r') as file:\n",
        "    scenario_raw = file.read()\n",
        "\n",
        "print(json.dumps(json.loads(scenario_raw), indent=2))"
      ]
    },
    {
      "cell_type": "code",
      "execution_count": null,
      "metadata": {
        "colab": {
          "base_uri": "https://localhost:8080/"
        },
        "id": "mGcC12aGMK30",
        "outputId": "279e9acb-2ac5-457f-8e42-534d4ad16ba7"
      },
      "outputs": [],
      "source": [
        "# Now we can run the co-simulation\n",
        "coe_command = f\"java -jar {coe_jar} --oneshot --configuration  {baseline_scenario_json_file} --starttime 0 --endtime 1 --result output.csv\"\n",
        "result = subprocess.run(coe_command, shell=True, capture_output=True, text=True)\n",
        "\n",
        "# Check the command's output\n",
        "if result.returncode == 0:\n",
        "    print(result.stdout)\n",
        "else:\n",
        "    raise RuntimeError(f\"Error running command {coe_command}: {result.stderr}\")"
      ]
    },
    {
      "cell_type": "code",
      "execution_count": null,
      "metadata": {
        "colab": {
          "base_uri": "https://localhost:8080/",
          "height": 443
        },
        "id": "p7vFw_aXMK31",
        "outputId": "1361ad7b-82b5-4d4d-dffe-d59b3022652c"
      },
      "outputs": [],
      "source": [
        "# If all went well, we can see the results stored in \"output.csv\"\n",
        "data = pandas.read_csv(\"output.csv\")\n",
        "data"
      ]
    },
    {
      "cell_type": "code",
      "execution_count": null,
      "metadata": {
        "colab": {
          "base_uri": "https://localhost:8080/",
          "height": 564
        },
        "id": "OIk_Om6rMK31",
        "outputId": "07423105-e6ed-43f7-908b-132f5b97385a"
      },
      "outputs": [],
      "source": [
        "# And we can plot those results as follows\n",
        "\n",
        "plt.figure()\n",
        "plt.plot(data[\"time\"], data[\"{baseline}.baselineInstance.w\"], label=\"{baseline}.w\")\n",
        "plt.plot(data[\"time\"], data[\"{drive}.driveInstance.w\"], label=\"{drive}.w\")\n",
        "plt.plot(data[\"time\"], data[\"{stimuli}.stimuliInstance.w_desired\"], label=\"{stimuli}.w_desired\")\n",
        "plt.legend()\n",
        "plt.show()"
      ]
    },
    {
      "cell_type": "code",
      "execution_count": null,
      "metadata": {
        "id": "JysNioO6MK32"
      },
      "outputs": [],
      "source": [
        "# Now we measure the error and print it:\n",
        "\n",
        "def error(ref_series, approx_series):\n",
        "    error_signal = ref_series.to_numpy() - approx_series.to_numpy()\n",
        "    sum_squared_differences = np.sum(error_signal ** 2)\n",
        "    return sum_squared_differences\n",
        "\n",
        "error(data[\"{baseline}.baselineInstance.w\"], data[\"{drive}.driveInstance.w\"])"
      ]
    },
    {
      "cell_type": "markdown",
      "metadata": {
        "id": "apf2DgTTMK32"
      },
      "source": [
        "### Impact of Step Size in the Accuracy\n",
        "\n",
        "This section is a bit more advanced.\n",
        "What we want is to run many simulations with different step sizes, and for each of these runs, we want to collect the results, calculate their error and store it.\n",
        "Then, we can create a plot that compares the different step sizes with the achieved error."
      ]
    },
    {
      "cell_type": "code",
      "execution_count": null,
      "metadata": {
        "id": "PWu6trjiMK32"
      },
      "outputs": [],
      "source": [
        "# So we need a function to run a full experiment given a step size.\n",
        "def searchAndReplace(key, value, fileSrc, fileTrg):\n",
        "  '''\n",
        "  Opens a file fileSrc and searches for all occurrences of key string and replaces it by value.\n",
        "  Stores the result in fileTrg.\n",
        "  '''\n",
        "  with open(fileSrc, 'r') as file :\n",
        "    filedata = file.read()\n",
        "\n",
        "  filedata = filedata.replace(key, value)\n",
        "\n",
        "  with open(fileTrg, 'w') as file:\n",
        "    file.write(filedata)\n",
        "\n",
        "def run_experiment_with_step_size(step_size):\n",
        "  # Set the step size in the config file:\n",
        "  searchAndReplace(\"0.001\", str(step_size), baseline_scenario_json_template, baseline_scenario_json_file)\n",
        "\n",
        "  start_time_seconds = time.time()\n",
        "  result = subprocess.run(coe_command, shell=True, capture_output=True, text=True)\n",
        "  elapsed_time_seconds = time.time() - start_time_seconds\n",
        "\n",
        "  # Check for failure and print debug information\n",
        "  if result.returncode != 0:\n",
        "    with open(baseline_scenario_json_file, 'r') as file:\n",
        "        scenario_raw = file.read()\n",
        "    raise RuntimeError(f\"Error running command {coe_command} for step size {step_size}: {result.stderr}. \\nThe input scenario is:\\n{json.dumps(json.loads(scenario_raw), indent=2)}\")\n",
        "\n",
        "  # Read results and compute error\n",
        "  data = pandas.read_csv(\"output.csv\")\n",
        "\n",
        "  return error(data[\"{baseline}.baselineInstance.w\"], data[\"{drive}.driveInstance.w\"]), elapsed_time_seconds\n",
        "\n",
        "# Define possible step sizes we wish to try.\n",
        "step_sizes = np.linspace(0.0001, 0.001, 4)\n",
        "print(f\"step_sizes = {step_sizes}\")\n",
        "\n",
        "# Run an experiment for each step size. CAUTION: this takes time.\n",
        "results = [run_experiment_with_step_size(step_size) for step_size in step_sizes]\n",
        "errors = [r[0] for r in results]\n",
        "execution_times = [r[1] for r in results]\n",
        "\n",
        "print(f\"errors = {errors}\")\n",
        "print(f\"execution_times = {execution_times}\")"
      ]
    },
    {
      "cell_type": "code",
      "execution_count": null,
      "metadata": {
        "id": "rJHo9NRMMK33"
      },
      "outputs": [],
      "source": [
        "# Plot the results\n",
        "\n",
        "fig, axs = plt.subplots(2, 1)\n",
        "\n",
        "axs[0].plot(step_sizes, errors, label=\"Error\")\n",
        "axs[0].legend()\n",
        "\n",
        "axs[1].plot(step_sizes, execution_times, label=\"Execution time\")\n",
        "axs[1].legend()\n",
        "\n",
        "# Adjust spacing between subplots\n",
        "plt.tight_layout()"
      ]
    }
  ],
  "metadata": {
    "colab": {
      "provenance": []
    },
    "kernelspec": {
      "display_name": "Python 3",
      "language": "python",
      "name": "python3"
    },
    "language_info": {
      "codemirror_mode": {
        "name": "ipython",
        "version": 3
      },
      "file_extension": ".py",
      "mimetype": "text/x-python",
      "name": "python",
      "nbconvert_exporter": "python",
      "pygments_lexer": "ipython3",
      "version": "3.11.2"
    },
    "orig_nbformat": 4
  },
  "nbformat": 4,
  "nbformat_minor": 0
}
