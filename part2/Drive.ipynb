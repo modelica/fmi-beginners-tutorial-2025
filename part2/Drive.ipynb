{
 "cells": [
  {
   "cell_type": "code",
   "execution_count": 1,
   "id": "19fab536",
   "metadata": {},
   "outputs": [
    {
     "data": {
      "application/vnd.plotly.v1+json": {
       "config": {
        "plotlyServerURL": "https://plot.ly"
       },
       "data": [
        {
         "line": {
          "color": "#636efa",
          "width": 1
         },
         "marker": {
          "color": "#636efa",
          "size": 5
         },
         "name": "w",
         "type": "scatter",
         "x": {
          "bdata": "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",
          "dtype": "f8"
         },
         "xaxis": "x",
         "y": {
          "bdata": "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",
          "dtype": "f8"
         },
         "yaxis": "y"
        }
       ],
       "layout": {
        "height": 280,
        "margin": {
         "b": 0,
         "r": 30,
         "t": 30
        },
        "plot_bgcolor": "rgba(0,0,0,0)",
        "showlegend": false,
        "template": {
         "data": {
          "bar": [
           {
            "error_x": {
             "color": "#2a3f5f"
            },
            "error_y": {
             "color": "#2a3f5f"
            },
            "marker": {
             "line": {
              "color": "#E5ECF6",
              "width": 0.5
             },
             "pattern": {
              "fillmode": "overlay",
              "size": 10,
              "solidity": 0.2
             }
            },
            "type": "bar"
           }
          ],
          "barpolar": [
           {
            "marker": {
             "line": {
              "color": "#E5ECF6",
              "width": 0.5
             },
             "pattern": {
              "fillmode": "overlay",
              "size": 10,
              "solidity": 0.2
             }
            },
            "type": "barpolar"
           }
          ],
          "carpet": [
           {
            "aaxis": {
             "endlinecolor": "#2a3f5f",
             "gridcolor": "white",
             "linecolor": "white",
             "minorgridcolor": "white",
             "startlinecolor": "#2a3f5f"
            },
            "baxis": {
             "endlinecolor": "#2a3f5f",
             "gridcolor": "white",
             "linecolor": "white",
             "minorgridcolor": "white",
             "startlinecolor": "#2a3f5f"
            },
            "type": "carpet"
           }
          ],
          "choropleth": [
           {
            "colorbar": {
             "outlinewidth": 0,
             "ticks": ""
            },
            "type": "choropleth"
           }
          ],
          "contour": [
           {
            "colorbar": {
             "outlinewidth": 0,
             "ticks": ""
            },
            "colorscale": [
             [
              0,
              "#0d0887"
             ],
             [
              0.1111111111111111,
              "#46039f"
             ],
             [
              0.2222222222222222,
              "#7201a8"
             ],
             [
              0.3333333333333333,
              "#9c179e"
             ],
             [
              0.4444444444444444,
              "#bd3786"
             ],
             [
              0.5555555555555556,
              "#d8576b"
             ],
             [
              0.6666666666666666,
              "#ed7953"
             ],
             [
              0.7777777777777778,
              "#fb9f3a"
             ],
             [
              0.8888888888888888,
              "#fdca26"
             ],
             [
              1,
              "#f0f921"
             ]
            ],
            "type": "contour"
           }
          ],
          "contourcarpet": [
           {
            "colorbar": {
             "outlinewidth": 0,
             "ticks": ""
            },
            "type": "contourcarpet"
           }
          ],
          "heatmap": [
           {
            "colorbar": {
             "outlinewidth": 0,
             "ticks": ""
            },
            "colorscale": [
             [
              0,
              "#0d0887"
             ],
             [
              0.1111111111111111,
              "#46039f"
             ],
             [
              0.2222222222222222,
              "#7201a8"
             ],
             [
              0.3333333333333333,
              "#9c179e"
             ],
             [
              0.4444444444444444,
              "#bd3786"
             ],
             [
              0.5555555555555556,
              "#d8576b"
             ],
             [
              0.6666666666666666,
              "#ed7953"
             ],
             [
              0.7777777777777778,
              "#fb9f3a"
             ],
             [
              0.8888888888888888,
              "#fdca26"
             ],
             [
              1,
              "#f0f921"
             ]
            ],
            "type": "heatmap"
           }
          ],
          "histogram": [
           {
            "marker": {
             "pattern": {
              "fillmode": "overlay",
              "size": 10,
              "solidity": 0.2
             }
            },
            "type": "histogram"
           }
          ],
          "histogram2d": [
           {
            "colorbar": {
             "outlinewidth": 0,
             "ticks": ""
            },
            "colorscale": [
             [
              0,
              "#0d0887"
             ],
             [
              0.1111111111111111,
              "#46039f"
             ],
             [
              0.2222222222222222,
              "#7201a8"
             ],
             [
              0.3333333333333333,
              "#9c179e"
             ],
             [
              0.4444444444444444,
              "#bd3786"
             ],
             [
              0.5555555555555556,
              "#d8576b"
             ],
             [
              0.6666666666666666,
              "#ed7953"
             ],
             [
              0.7777777777777778,
              "#fb9f3a"
             ],
             [
              0.8888888888888888,
              "#fdca26"
             ],
             [
              1,
              "#f0f921"
             ]
            ],
            "type": "histogram2d"
           }
          ],
          "histogram2dcontour": [
           {
            "colorbar": {
             "outlinewidth": 0,
             "ticks": ""
            },
            "colorscale": [
             [
              0,
              "#0d0887"
             ],
             [
              0.1111111111111111,
              "#46039f"
             ],
             [
              0.2222222222222222,
              "#7201a8"
             ],
             [
              0.3333333333333333,
              "#9c179e"
             ],
             [
              0.4444444444444444,
              "#bd3786"
             ],
             [
              0.5555555555555556,
              "#d8576b"
             ],
             [
              0.6666666666666666,
              "#ed7953"
             ],
             [
              0.7777777777777778,
              "#fb9f3a"
             ],
             [
              0.8888888888888888,
              "#fdca26"
             ],
             [
              1,
              "#f0f921"
             ]
            ],
            "type": "histogram2dcontour"
           }
          ],
          "mesh3d": [
           {
            "colorbar": {
             "outlinewidth": 0,
             "ticks": ""
            },
            "type": "mesh3d"
           }
          ],
          "parcoords": [
           {
            "line": {
             "colorbar": {
              "outlinewidth": 0,
              "ticks": ""
             }
            },
            "type": "parcoords"
           }
          ],
          "pie": [
           {
            "automargin": true,
            "type": "pie"
           }
          ],
          "scatter": [
           {
            "fillpattern": {
             "fillmode": "overlay",
             "size": 10,
             "solidity": 0.2
            },
            "type": "scatter"
           }
          ],
          "scatter3d": [
           {
            "line": {
             "colorbar": {
              "outlinewidth": 0,
              "ticks": ""
             }
            },
            "marker": {
             "colorbar": {
              "outlinewidth": 0,
              "ticks": ""
             }
            },
            "type": "scatter3d"
           }
          ],
          "scattercarpet": [
           {
            "marker": {
             "colorbar": {
              "outlinewidth": 0,
              "ticks": ""
             }
            },
            "type": "scattercarpet"
           }
          ],
          "scattergeo": [
           {
            "marker": {
             "colorbar": {
              "outlinewidth": 0,
              "ticks": ""
             }
            },
            "type": "scattergeo"
           }
          ],
          "scattergl": [
           {
            "marker": {
             "colorbar": {
              "outlinewidth": 0,
              "ticks": ""
             }
            },
            "type": "scattergl"
           }
          ],
          "scattermap": [
           {
            "marker": {
             "colorbar": {
              "outlinewidth": 0,
              "ticks": ""
             }
            },
            "type": "scattermap"
           }
          ],
          "scattermapbox": [
           {
            "marker": {
             "colorbar": {
              "outlinewidth": 0,
              "ticks": ""
             }
            },
            "type": "scattermapbox"
           }
          ],
          "scatterpolar": [
           {
            "marker": {
             "colorbar": {
              "outlinewidth": 0,
              "ticks": ""
             }
            },
            "type": "scatterpolar"
           }
          ],
          "scatterpolargl": [
           {
            "marker": {
             "colorbar": {
              "outlinewidth": 0,
              "ticks": ""
             }
            },
            "type": "scatterpolargl"
           }
          ],
          "scatterternary": [
           {
            "marker": {
             "colorbar": {
              "outlinewidth": 0,
              "ticks": ""
             }
            },
            "type": "scatterternary"
           }
          ],
          "surface": [
           {
            "colorbar": {
             "outlinewidth": 0,
             "ticks": ""
            },
            "colorscale": [
             [
              0,
              "#0d0887"
             ],
             [
              0.1111111111111111,
              "#46039f"
             ],
             [
              0.2222222222222222,
              "#7201a8"
             ],
             [
              0.3333333333333333,
              "#9c179e"
             ],
             [
              0.4444444444444444,
              "#bd3786"
             ],
             [
              0.5555555555555556,
              "#d8576b"
             ],
             [
              0.6666666666666666,
              "#ed7953"
             ],
             [
              0.7777777777777778,
              "#fb9f3a"
             ],
             [
              0.8888888888888888,
              "#fdca26"
             ],
             [
              1,
              "#f0f921"
             ]
            ],
            "type": "surface"
           }
          ],
          "table": [
           {
            "cells": {
             "fill": {
              "color": "#EBF0F8"
             },
             "line": {
              "color": "white"
             }
            },
            "header": {
             "fill": {
              "color": "#C8D4E3"
             },
             "line": {
              "color": "white"
             }
            },
            "type": "table"
           }
          ]
         },
         "layout": {
          "annotationdefaults": {
           "arrowcolor": "#2a3f5f",
           "arrowhead": 0,
           "arrowwidth": 1
          },
          "autotypenumbers": "strict",
          "coloraxis": {
           "colorbar": {
            "outlinewidth": 0,
            "ticks": ""
           }
          },
          "colorscale": {
           "diverging": [
            [
             0,
             "#8e0152"
            ],
            [
             0.1,
             "#c51b7d"
            ],
            [
             0.2,
             "#de77ae"
            ],
            [
             0.3,
             "#f1b6da"
            ],
            [
             0.4,
             "#fde0ef"
            ],
            [
             0.5,
             "#f7f7f7"
            ],
            [
             0.6,
             "#e6f5d0"
            ],
            [
             0.7,
             "#b8e186"
            ],
            [
             0.8,
             "#7fbc41"
            ],
            [
             0.9,
             "#4d9221"
            ],
            [
             1,
             "#276419"
            ]
           ],
           "sequential": [
            [
             0,
             "#0d0887"
            ],
            [
             0.1111111111111111,
             "#46039f"
            ],
            [
             0.2222222222222222,
             "#7201a8"
            ],
            [
             0.3333333333333333,
             "#9c179e"
            ],
            [
             0.4444444444444444,
             "#bd3786"
            ],
            [
             0.5555555555555556,
             "#d8576b"
            ],
            [
             0.6666666666666666,
             "#ed7953"
            ],
            [
             0.7777777777777778,
             "#fb9f3a"
            ],
            [
             0.8888888888888888,
             "#fdca26"
            ],
            [
             1,
             "#f0f921"
            ]
           ],
           "sequentialminus": [
            [
             0,
             "#0d0887"
            ],
            [
             0.1111111111111111,
             "#46039f"
            ],
            [
             0.2222222222222222,
             "#7201a8"
            ],
            [
             0.3333333333333333,
             "#9c179e"
            ],
            [
             0.4444444444444444,
             "#bd3786"
            ],
            [
             0.5555555555555556,
             "#d8576b"
            ],
            [
             0.6666666666666666,
             "#ed7953"
            ],
            [
             0.7777777777777778,
             "#fb9f3a"
            ],
            [
             0.8888888888888888,
             "#fdca26"
            ],
            [
             1,
             "#f0f921"
            ]
           ]
          },
          "colorway": [
           "#636efa",
           "#EF553B",
           "#00cc96",
           "#ab63fa",
           "#FFA15A",
           "#19d3f3",
           "#FF6692",
           "#B6E880",
           "#FF97FF",
           "#FECB52"
          ],
          "font": {
           "color": "#2a3f5f"
          },
          "geo": {
           "bgcolor": "white",
           "lakecolor": "white",
           "landcolor": "#E5ECF6",
           "showlakes": true,
           "showland": true,
           "subunitcolor": "white"
          },
          "hoverlabel": {
           "align": "left"
          },
          "hovermode": "closest",
          "mapbox": {
           "style": "light"
          },
          "paper_bgcolor": "white",
          "plot_bgcolor": "#E5ECF6",
          "polar": {
           "angularaxis": {
            "gridcolor": "white",
            "linecolor": "white",
            "ticks": ""
           },
           "bgcolor": "#E5ECF6",
           "radialaxis": {
            "gridcolor": "white",
            "linecolor": "white",
            "ticks": ""
           }
          },
          "scene": {
           "xaxis": {
            "backgroundcolor": "#E5ECF6",
            "gridcolor": "white",
            "gridwidth": 2,
            "linecolor": "white",
            "showbackground": true,
            "ticks": "",
            "zerolinecolor": "white"
           },
           "yaxis": {
            "backgroundcolor": "#E5ECF6",
            "gridcolor": "white",
            "gridwidth": 2,
            "linecolor": "white",
            "showbackground": true,
            "ticks": "",
            "zerolinecolor": "white"
           },
           "zaxis": {
            "backgroundcolor": "#E5ECF6",
            "gridcolor": "white",
            "gridwidth": 2,
            "linecolor": "white",
            "showbackground": true,
            "ticks": "",
            "zerolinecolor": "white"
           }
          },
          "shapedefaults": {
           "line": {
            "color": "#2a3f5f"
           }
          },
          "ternary": {
           "aaxis": {
            "gridcolor": "white",
            "linecolor": "white",
            "ticks": ""
           },
           "baxis": {
            "gridcolor": "white",
            "linecolor": "white",
            "ticks": ""
           },
           "bgcolor": "#E5ECF6",
           "caxis": {
            "gridcolor": "white",
            "linecolor": "white",
            "ticks": ""
           }
          },
          "title": {
           "x": 0.05
          },
          "xaxis": {
           "automargin": true,
           "gridcolor": "white",
           "linecolor": "white",
           "ticks": "",
           "title": {
            "standoff": 15
           },
           "zerolinecolor": "white",
           "zerolinewidth": 2
          },
          "yaxis": {
           "automargin": true,
           "gridcolor": "white",
           "linecolor": "white",
           "ticks": "",
           "title": {
            "standoff": 15
           },
           "zerolinecolor": "white",
           "zerolinewidth": 2
          }
         }
        },
        "xaxis": {
         "anchor": "y",
         "domain": [
          0,
          1
         ],
         "gridcolor": "LightGrey",
         "gridwidth": 1,
         "linecolor": "black",
         "range": [
          0,
          1
         ],
         "showgrid": true,
         "showline": true,
         "ticklen": 0,
         "title": {
          "text": "time [s]"
         },
         "zerolinecolor": "LightGrey",
         "zerolinewidth": 1
        },
        "yaxis": {
         "anchor": "x",
         "domain": [
          0,
          1
         ],
         "gridcolor": "LightGrey",
         "gridwidth": 1,
         "linecolor": "black",
         "showgrid": true,
         "showline": true,
         "ticklen": 0,
         "title": {
          "text": "w [rev/min]"
         },
         "zerolinecolor": "LightGrey",
         "zerolinewidth": 1
        }
       }
      }
     },
     "metadata": {},
     "output_type": "display_data"
    }
   ],
   "source": [
    "import fmpy\n",
    "from fmpy import *\n",
    "\n",
    "\n",
    "filename = 'Drive.fmu'\n",
    "\n",
    "start_values = {\n",
    "    # variable                                         start   unit        description\n",
    "    'loadInertia1.J':                                    (10, 'kg.m2'),  # Moment of inertia\n",
    "    'idealGear.ratio':                                   (10, '1'),      # Transmission ratio (flange_a.phi/flange_b.phi)\n",
    "    'dcpm.TaOperational':                            (293.15, 'K'),      # Operational armature temperature\n",
    "    'dcpm.fixed.phi0':                                    (0, 'rad'),    # Fixed offset angle of housing\n",
    "    'dcpmData.Jr':                                    (0.001, 'kg.m2'),  # Rotor's moment of inertia\n",
    "    'dcpmData.VaNominal':                               (100, 'V'),      # Nominal armature voltage\n",
    "    'dcpmData.IaNominal':                               (100, 'A'),      # Nominal armature current (>0..Motor, <0..Generator)\n",
    "    'dcpmData.wNominal':                    (149.22565104552, 'rad/s'),  # Nominal speed\n",
    "    'dcpmData.TaNominal':                            (293.15, 'K'),      # Nominal armature temperature\n",
    "    'dcpmData.Ra':                                     (0.05, 'Ohm'),    # Armature resistance at TaRef\n",
    "    'dcpmData.TaRef':                                (293.15, 'K'),      # Reference temperature of armature resistance\n",
    "    'dcpmData.alpha20a':                                  (0, '1/K'),    # Temperature coefficient of armature resistance\n",
    "    'dcpmData.La':                                   (0.0015, 'H'),      # Armature inductance\n",
    "    'dcpmData.frictionParameters.power_w':                 2,            # Exponent of friction torque w.r.t. angular velocity\n",
    "    'dcpmData.strayLoadParameters.power_w':                1,            # Exponent of stray load loss torque w.r.t. angular velocity\n",
    "}\n",
    "\n",
    "output = [\n",
    "    'w',\n",
    "]\n",
    "\n",
    "input = read_csv('Drive_in.csv')\n",
    "\n",
    "result = simulate_fmu(filename, start_values=start_values, input=input, output=output, stop_time=1.0)\n",
    "\n",
    "plot_result(result)"
   ]
  },
  {
   "cell_type": "code",
   "execution_count": null,
   "id": "309e26fe-27a7-44fa-966f-12cde3a1c99f",
   "metadata": {},
   "outputs": [],
   "source": []
  }
 ],
 "metadata": {
  "kernelspec": {
   "display_name": "Python 3",
   "language": "python",
   "name": "python3"
  },
  "language_info": {
   "codemirror_mode": {
    "name": "ipython",
    "version": 3
   },
   "file_extension": ".py",
   "mimetype": "text/x-python",
   "name": "python",
   "nbconvert_exporter": "python",
   "pygments_lexer": "ipython3",
   "version": "3.11.2"
  }
 },
 "nbformat": 4,
 "nbformat_minor": 5
}
